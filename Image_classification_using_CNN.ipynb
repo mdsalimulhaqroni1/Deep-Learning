{
  "cells": [
    {
      "cell_type": "markdown",
      "metadata": {
        "id": "view-in-github",
        "colab_type": "text"
      },
      "source": [
        "<a href=\"https://colab.research.google.com/github/mdsalimulhaqroni1/Deep-Learning/blob/main/Image_classification_using_CNN.ipynb\" target=\"_parent\"><img src=\"https://colab.research.google.com/assets/colab-badge.svg\" alt=\"Open In Colab\"/></a>"
      ]
    },
    {
      "cell_type": "markdown",
      "id": "1b2e5a0d",
      "metadata": {
        "id": "1b2e5a0d"
      },
      "source": [
        "CNN Image Classification with Keras and CIFAR-10"
      ]
    },
    {
      "cell_type": "markdown",
      "id": "350a0202",
      "metadata": {
        "id": "350a0202"
      },
      "source": [
        "Step 1: Choose a Dataset\n",
        "The first step is to choose a dataset for the image classification task. There are many publicly available datasets, such as CIFAR-10, CIFAR-100, and MNIST, that can be used for training and testing the CNN. For this tutorial, we will be using the CIFAR-10 dataset, which consists of 60,000 32×32 color images across ten classes, with 6,000 images in each class."
      ]
    },
    {
      "cell_type": "code",
      "execution_count": null,
      "id": "bfb6885c",
      "metadata": {
        "id": "bfb6885c"
      },
      "outputs": [],
      "source": [
        "import tensorflow as tf\n",
        "from tensorflow.keras import datasets\n",
        "from tensorflow.keras.models import Sequential\n",
        "from tensorflow.keras import layers"
      ]
    },
    {
      "cell_type": "code",
      "source": [],
      "metadata": {
        "id": "MKa9yDP0OgQy"
      },
      "id": "MKa9yDP0OgQy",
      "execution_count": null,
      "outputs": []
    },
    {
      "cell_type": "code",
      "source": [
        "# Download the data set\n",
        "(train_images, train_labels), (test_images, test_labels) = datasets.cifar10.load_data()"
      ],
      "metadata": {
        "id": "yS8g9sazNgEx",
        "colab": {
          "base_uri": "https://localhost:8080/"
        },
        "outputId": "4b3b6ad5-629f-43be-be0a-9c490dcdc8b9"
      },
      "id": "yS8g9sazNgEx",
      "execution_count": null,
      "outputs": [
        {
          "output_type": "stream",
          "name": "stdout",
          "text": [
            "Downloading data from https://www.cs.toronto.edu/~kriz/cifar-10-python.tar.gz\n",
            "170498071/170498071 [==============================] - 13s 0us/step\n"
          ]
        }
      ]
    },
    {
      "cell_type": "code",
      "source": [],
      "metadata": {
        "id": "cBWp3qOVgoI9"
      },
      "id": "cBWp3qOVgoI9",
      "execution_count": null,
      "outputs": []
    },
    {
      "cell_type": "code",
      "source": [
        "train_images.shape"
      ],
      "metadata": {
        "colab": {
          "base_uri": "https://localhost:8080/"
        },
        "id": "rxkl6RhUNirB",
        "outputId": "0c19caaa-eb3a-4d82-952e-5f4382065e45"
      },
      "id": "rxkl6RhUNirB",
      "execution_count": null,
      "outputs": [
        {
          "output_type": "execute_result",
          "data": {
            "text/plain": [
              "(50000, 32, 32, 3)"
            ]
          },
          "metadata": {},
          "execution_count": 3
        }
      ]
    },
    {
      "cell_type": "code",
      "source": [
        "test_images.shape"
      ],
      "metadata": {
        "colab": {
          "base_uri": "https://localhost:8080/"
        },
        "id": "kXU8xWOKNs8B",
        "outputId": "139ae1e2-5604-4640-bce7-d42562b788e7"
      },
      "id": "kXU8xWOKNs8B",
      "execution_count": null,
      "outputs": [
        {
          "output_type": "execute_result",
          "data": {
            "text/plain": [
              "(10000, 32, 32, 3)"
            ]
          },
          "metadata": {},
          "execution_count": 4
        }
      ]
    },
    {
      "cell_type": "markdown",
      "id": "0ab8f199",
      "metadata": {
        "id": "0ab8f199"
      },
      "source": [
        "Step 2: Prepare the Dataset for Training\n",
        "Next, we will load the CIFAR-10 dataset and prepare it for training. This involves splitting the dataset into training and test sets, and then normalizing the pixel values of the images to the range of 0 to 1."
      ]
    },
    {
      "cell_type": "markdown",
      "source": [],
      "metadata": {
        "id": "wWlZeXb2zhDd"
      },
      "id": "wWlZeXb2zhDd"
    },
    {
      "cell_type": "code",
      "execution_count": null,
      "id": "6873ac82",
      "metadata": {
        "id": "6873ac82"
      },
      "outputs": [],
      "source": [
        "train_images, test_images = train_images / 255.0, test_images / 255.0"
      ]
    },
    {
      "cell_type": "markdown",
      "id": "db5adaa7",
      "metadata": {
        "id": "db5adaa7"
      },
      "source": [
        "Step 3: Create Training Data and Assign Labels\n",
        "We will use the training set of images and labels to train the CNN. We will use the flow_from_directory() method from the keras.preprocessing.image module to create a generator that will read the images from the directory and apply data augmentation.\n",
        "\n",
        "We will assign labels to the data by converting the categorical class labels to one-hot encoded vectors."
      ]
    },
    {
      "cell_type": "code",
      "execution_count": null,
      "id": "eb7e31c9",
      "metadata": {
        "id": "eb7e31c9"
      },
      "outputs": [],
      "source": [
        "class_names = ['airplane', 'automobile', 'bird', 'cat', 'deer','dog', 'frog', 'horse', 'ship', 'truck']"
      ]
    },
    {
      "cell_type": "markdown",
      "id": "c10946b4",
      "metadata": {
        "id": "c10946b4"
      },
      "source": [
        "Step 4: Define and Train the CNN Model\n",
        "We will define the CNN architecture using the Keras library. The model will consist of several convolutional layers followed by max pooling layers, and a fully connected layer with a softmax activation function. We will then train the model using the fit() method."
      ]
    },
    {
      "cell_type": "code",
      "execution_count": null,
      "id": "cb8def5e",
      "metadata": {
        "colab": {
          "base_uri": "https://localhost:8080/"
        },
        "id": "cb8def5e",
        "outputId": "e2d189f1-577a-4523-8dc9-db330e04d1e5"
      },
      "outputs": [
        {
          "output_type": "stream",
          "name": "stdout",
          "text": [
            "Epoch 1/10\n",
            "1563/1563 [==============================] - 19s 5ms/step - loss: 1.5028 - accuracy: 0.4520 - val_loss: 1.2047 - val_accuracy: 0.5647\n",
            "Epoch 2/10\n",
            "1563/1563 [==============================] - 7s 5ms/step - loss: 1.1576 - accuracy: 0.5890 - val_loss: 1.0537 - val_accuracy: 0.6297\n",
            "Epoch 3/10\n",
            "1563/1563 [==============================] - 8s 5ms/step - loss: 1.0012 - accuracy: 0.6453 - val_loss: 1.0048 - val_accuracy: 0.6487\n",
            "Epoch 4/10\n",
            "1563/1563 [==============================] - 7s 5ms/step - loss: 0.8963 - accuracy: 0.6852 - val_loss: 0.9516 - val_accuracy: 0.6675\n",
            "Epoch 5/10\n",
            "1563/1563 [==============================] - 7s 5ms/step - loss: 0.8252 - accuracy: 0.7087 - val_loss: 0.9193 - val_accuracy: 0.6775\n",
            "Epoch 6/10\n",
            "1563/1563 [==============================] - 7s 5ms/step - loss: 0.7614 - accuracy: 0.7325 - val_loss: 0.8837 - val_accuracy: 0.6938\n",
            "Epoch 7/10\n",
            "1563/1563 [==============================] - 8s 5ms/step - loss: 0.7124 - accuracy: 0.7481 - val_loss: 0.8616 - val_accuracy: 0.6986\n",
            "Epoch 8/10\n",
            "1563/1563 [==============================] - 8s 5ms/step - loss: 0.6632 - accuracy: 0.7653 - val_loss: 0.8291 - val_accuracy: 0.7177\n",
            "Epoch 9/10\n",
            "1563/1563 [==============================] - 7s 5ms/step - loss: 0.6247 - accuracy: 0.7799 - val_loss: 0.8452 - val_accuracy: 0.7119\n",
            "Epoch 10/10\n",
            "1563/1563 [==============================] - 7s 5ms/step - loss: 0.5873 - accuracy: 0.7933 - val_loss: 0.8682 - val_accuracy: 0.7152\n"
          ]
        }
      ],
      "source": [
        "model = Sequential()\n",
        "model.add(layers.Conv2D(32, (3, 3), activation='relu', input_shape=(32, 32, 3)))\n",
        "model.add(layers.MaxPooling2D((2, 2)))\n",
        "model.add(layers.Conv2D(64, (3, 3), activation='relu'))\n",
        "model.add(layers.MaxPooling2D((2, 2)))\n",
        "\n",
        "model.add(layers.Conv2D(64, (3, 3), activation='relu'))\n",
        "model.add(layers.Flatten())\n",
        "model.add(layers.Dense(64, activation='relu'))\n",
        "model.add(layers.Dense(10))\n",
        "\n",
        "model.compile(optimizer='adam', \n",
        "             loss=tf.keras.losses.SparseCategoricalCrossentropy(from_logits=True),\n",
        "             metrics=['accuracy'])\n",
        "history = model.fit(train_images, train_labels, epochs=10, validation_data=(test_images, test_labels))"
      ]
    },
    {
      "cell_type": "markdown",
      "id": "bc41596c",
      "metadata": {
        "id": "bc41596c"
      },
      "source": [
        "Step 5: Test the Model’s Accuracy\n",
        "Finally, we will evaluate the trained model on the test set using the evaluate() method and calculate the accuracy of the model."
      ]
    },
    {
      "cell_type": "code",
      "execution_count": null,
      "id": "1563f380",
      "metadata": {
        "id": "1563f380"
      },
      "outputs": [],
      "source": [
        "import matplotlib.pyplot as plt\n",
        "import seaborn as sns"
      ]
    },
    {
      "cell_type": "code",
      "source": [
        "print(test_labels[2])\n",
        "plt.imshow(test_images[2].astype(int))"
      ],
      "metadata": {
        "id": "Xkh52FAtcspk",
        "colab": {
          "base_uri": "https://localhost:8080/",
          "height": 465
        },
        "outputId": "599dec6e-adca-4705-bed9-c3d17d5f9773"
      },
      "id": "Xkh52FAtcspk",
      "execution_count": null,
      "outputs": [
        {
          "output_type": "stream",
          "name": "stdout",
          "text": [
            "[8]\n"
          ]
        },
        {
          "output_type": "execute_result",
          "data": {
            "text/plain": [
              "<matplotlib.image.AxesImage at 0x7f73ea429000>"
            ]
          },
          "metadata": {},
          "execution_count": 9
        },
        {
          "output_type": "display_data",
          "data": {
            "text/plain": [
              "<Figure size 640x480 with 1 Axes>"
            ],
            "image/png": "[encoded data removed]"
          },
          "metadata": {}
        }
      ]
    },
    {
      "cell_type": "code",
      "execution_count": null,
      "id": "d7ed03bd",
      "metadata": {
        "colab": {
          "base_uri": "https://localhost:8080/",
          "height": 701
        },
        "id": "d7ed03bd",
        "outputId": "e6e8a5d9-c946-4a5e-d331-a6b0ef617b53"
      },
      "outputs": [
        {
          "output_type": "display_data",
          "data": {
            "text/plain": [
              "<Figure size 800x800 with 1 Axes>"
            ],
            "image/png": "[encoded data removed]"
          },
          "metadata": {}
        }
      ],
      "source": [
        "plt.figure(figsize=(8, 8))\n",
        "plt.plot(history.history['accuracy'], label='accuracy')\n",
        "plt.plot(history.history['val_accuracy'], label = 'val_accuracy')\n",
        "plt.xlabel('Epoch')\n",
        "plt.ylabel('Accuracy')\n",
        "plt.ylim([0.5, 1])\n",
        "plt.legend(loc='lower right')\n",
        "\n",
        "plt.savefig(\"output_report.png\")"
      ]
    },
    {
      "cell_type": "code",
      "execution_count": null,
      "id": "c4da73a8",
      "metadata": {
        "id": "c4da73a8"
      },
      "outputs": [],
      "source": []
    }
  ],
  "metadata": {
    "kernelspec": {
      "display_name": "Python 3",
      "name": "python3"
    },
    "language_info": {
      "codemirror_mode": {
        "name": "ipython",
        "version": 3
      },
      "file_extension": ".py",
      "mimetype": "text/x-python",
      "name": "python",
      "nbconvert_exporter": "python",
      "pygments_lexer": "ipython3",
      "version": "3.9.7"
    },
    "colab": {
      "provenance": [],
      "gpuType": "T4",
      "include_colab_link": true
    },
    "accelerator": "GPU"
  },
  "nbformat": 4,
  "nbformat_minor": 5
}